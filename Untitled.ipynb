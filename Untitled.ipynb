{
 "cells": [
  {
   "cell_type": "code",
   "execution_count": 1,
   "id": "6e4dfbf3-72d7-4474-aa13-8e6163b35b21",
   "metadata": {},
   "outputs": [],
   "source": [
    "import pandas as pd\n",
    "import numpy as np\n",
    "import matplotlib.pyplot as plt\n",
    "import seaborn as sns\n",
    "from sklearn.model_selection import train_test_split, GridSearchCV\n",
    "from sklearn.preprocessing import StandardScaler\n",
    "from sklearn.ensemble import RandomForestRegressor\n",
    "from sklearn.linear_model import LinearRegression\n",
    "from sklearn.metrics import mean_squared_error, r2_score\n",
    "from sklearn.svm import SVR\n",
    "from sklearn.neighbors import KNeighborsRegressor\n"
   ]
  },
  {
   "cell_type": "code",
   "execution_count": 5,
   "id": "683b0803-3c56-4f2b-8ac0-b9e5f0f345fb",
   "metadata": {},
   "outputs": [],
   "source": [
    "df = pd.read_csv(\"northern_states_yield.csv\")"
   ]
  },
  {
   "cell_type": "code",
   "execution_count": 6,
   "id": "8e3b6079-f92b-41fd-b18b-ea7eb30e565e",
   "metadata": {},
   "outputs": [
    {
     "data": {
      "text/html": [
       "<div>\n",
       "<style scoped>\n",
       "    .dataframe tbody tr th:only-of-type {\n",
       "        vertical-align: middle;\n",
       "    }\n",
       "\n",
       "    .dataframe tbody tr th {\n",
       "        vertical-align: top;\n",
       "    }\n",
       "\n",
       "    .dataframe thead th {\n",
       "        text-align: right;\n",
       "    }\n",
       "</style>\n",
       "<table border=\"1\" class=\"dataframe\">\n",
       "  <thead>\n",
       "    <tr style=\"text-align: right;\">\n",
       "      <th></th>\n",
       "      <th>Crop</th>\n",
       "      <th>Crop_Year</th>\n",
       "      <th>Season</th>\n",
       "      <th>State</th>\n",
       "      <th>Area</th>\n",
       "      <th>Production</th>\n",
       "      <th>Annual_Rainfall</th>\n",
       "      <th>Fertilizer</th>\n",
       "      <th>Pesticide</th>\n",
       "      <th>Yield</th>\n",
       "    </tr>\n",
       "  </thead>\n",
       "  <tbody>\n",
       "    <tr>\n",
       "      <th>0</th>\n",
       "      <td>Arhar/Tur</td>\n",
       "      <td>1997</td>\n",
       "      <td>Kharif</td>\n",
       "      <td>Punjab</td>\n",
       "      <td>11000.0</td>\n",
       "      <td>8200</td>\n",
       "      <td>690.1</td>\n",
       "      <td>1046870.0</td>\n",
       "      <td>3410.0</td>\n",
       "      <td>0.766154</td>\n",
       "    </tr>\n",
       "    <tr>\n",
       "      <th>1</th>\n",
       "      <td>Bajra</td>\n",
       "      <td>1997</td>\n",
       "      <td>Kharif</td>\n",
       "      <td>Punjab</td>\n",
       "      <td>8000.0</td>\n",
       "      <td>8000</td>\n",
       "      <td>690.1</td>\n",
       "      <td>761360.0</td>\n",
       "      <td>2480.0</td>\n",
       "      <td>1.000000</td>\n",
       "    </tr>\n",
       "    <tr>\n",
       "      <th>2</th>\n",
       "      <td>Barley</td>\n",
       "      <td>1997</td>\n",
       "      <td>Rabi</td>\n",
       "      <td>Punjab</td>\n",
       "      <td>37000.0</td>\n",
       "      <td>111000</td>\n",
       "      <td>690.1</td>\n",
       "      <td>3521290.0</td>\n",
       "      <td>11470.0</td>\n",
       "      <td>2.995455</td>\n",
       "    </tr>\n",
       "    <tr>\n",
       "      <th>3</th>\n",
       "      <td>Cotton(lint)</td>\n",
       "      <td>1997</td>\n",
       "      <td>Whole Year</td>\n",
       "      <td>Punjab</td>\n",
       "      <td>724000.0</td>\n",
       "      <td>937000</td>\n",
       "      <td>690.1</td>\n",
       "      <td>68903080.0</td>\n",
       "      <td>224440.0</td>\n",
       "      <td>1.324000</td>\n",
       "    </tr>\n",
       "    <tr>\n",
       "      <th>4</th>\n",
       "      <td>Gram</td>\n",
       "      <td>1997</td>\n",
       "      <td>Rabi</td>\n",
       "      <td>Punjab</td>\n",
       "      <td>13300.0</td>\n",
       "      <td>11000</td>\n",
       "      <td>690.1</td>\n",
       "      <td>1265761.0</td>\n",
       "      <td>4123.0</td>\n",
       "      <td>0.844615</td>\n",
       "    </tr>\n",
       "  </tbody>\n",
       "</table>\n",
       "</div>"
      ],
      "text/plain": [
       "           Crop  Crop_Year       Season   State      Area  Production  \\\n",
       "0     Arhar/Tur       1997  Kharif       Punjab   11000.0        8200   \n",
       "1         Bajra       1997  Kharif       Punjab    8000.0        8000   \n",
       "2        Barley       1997  Rabi         Punjab   37000.0      111000   \n",
       "3  Cotton(lint)       1997  Whole Year   Punjab  724000.0      937000   \n",
       "4          Gram       1997  Rabi         Punjab   13300.0       11000   \n",
       "\n",
       "   Annual_Rainfall  Fertilizer  Pesticide     Yield  \n",
       "0            690.1   1046870.0     3410.0  0.766154  \n",
       "1            690.1    761360.0     2480.0  1.000000  \n",
       "2            690.1   3521290.0    11470.0  2.995455  \n",
       "3            690.1  68903080.0   224440.0  1.324000  \n",
       "4            690.1   1265761.0     4123.0  0.844615  "
      ]
     },
     "execution_count": 6,
     "metadata": {},
     "output_type": "execute_result"
    }
   ],
   "source": [
    "df.head()"
   ]
  },
  {
   "cell_type": "markdown",
   "id": "3f525aec-3cfa-42c2-bd5a-9cf2731851af",
   "metadata": {},
   "source": [
    "### Checking for Null Values"
   ]
  },
  {
   "cell_type": "code",
   "execution_count": 10,
   "id": "b53211b7-319c-43fa-b81c-93e00f1b2566",
   "metadata": {},
   "outputs": [
    {
     "name": "stdout",
     "output_type": "stream",
     "text": [
      "Crop               0\n",
      "Crop_Year          0\n",
      "Season             0\n",
      "State              0\n",
      "Area               0\n",
      "Production         0\n",
      "Annual_Rainfall    0\n",
      "Fertilizer         0\n",
      "Pesticide          0\n",
      "Yield              0\n",
      "dtype: int64\n"
     ]
    }
   ],
   "source": [
    "print(df.isnull().sum())\n",
    "\n",
    "df.bfill(inplace=True)"
   ]
  },
  {
   "cell_type": "markdown",
   "id": "0b00aa1e-b8b8-4dc9-b335-ea64de08aff6",
   "metadata": {},
   "source": [
    "# "
   ]
  },
  {
   "cell_type": "code",
   "execution_count": 11,
   "id": "23aaffde-9790-47c8-9227-ba253b333107",
   "metadata": {},
   "outputs": [],
   "source": [
    "df = pd.get_dummies(df, drop_first=True)"
   ]
  },
  {
   "cell_type": "code",
   "execution_count": null,
   "id": "5c6473b5-2e65-44d1-8f12-d674a69d594d",
   "metadata": {},
   "outputs": [],
   "source": [
    "df.describe()"
   ]
  },
  {
   "cell_type": "code",
   "execution_count": null,
   "id": "ac927740-6b3c-45f2-825e-53ea87bb2f3d",
   "metadata": {},
   "outputs": [],
   "source": []
  }
 ],
 "metadata": {
  "kernelspec": {
   "display_name": "Python 3 (ipykernel)",
   "language": "python",
   "name": "python3"
  },
  "language_info": {
   "codemirror_mode": {
    "name": "ipython",
    "version": 3
   },
   "file_extension": ".py",
   "mimetype": "text/x-python",
   "name": "python",
   "nbconvert_exporter": "python",
   "pygments_lexer": "ipython3",
   "version": "3.11.7"
  }
 },
 "nbformat": 4,
 "nbformat_minor": 5
}
